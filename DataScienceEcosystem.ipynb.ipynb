{
  "metadata": {
    "kernelspec": {
      "name": "python",
      "display_name": "Python (Pyodide)",
      "language": "python"
    },
    "language_info": {
      "codemirror_mode": {
        "name": "python",
        "version": 3
      },
      "file_extension": ".py",
      "mimetype": "text/x-python",
      "name": "python",
      "nbconvert_exporter": "python",
      "pygments_lexer": "ipython3",
      "version": "3.8"
    }
  },
  "nbformat_minor": 5,
  "nbformat": 4,
  "cells": [
    {
      "id": "03a9beca-c598-4ad6-95c4-091b189a08e4",
      "cell_type": "code",
      "source": "# Data Science Tools and Ecosystem",
      "metadata": {
        "trusted": true
      },
      "outputs": [],
      "execution_count": null
    },
    {
      "id": "bfdb2b44-01f9-4ed3-bf09-dd686120019f",
      "cell_type": "markdown",
      "source": "En este cuaderno, se resumen las herramientas y ecosistemas de ciencia de datos.",
      "metadata": {}
    },
    {
      "id": "e691d71a-d7d7-465a-9d97-2ba805f1404d",
      "cell_type": "markdown",
      "source": "Algunos de los lenguajes populares que utilizan los científicos de datos son:\n\n1. Python  \n2. R  \n3. SQL  \n4. Scala\n5. Julia",
      "metadata": {}
    },
    {
      "id": "f8964540-7ccc-41ed-8981-a94230a906b8",
      "cell_type": "markdown",
      "source": "Algunas de las bibliotecas comúnmente utilizadas por los científicos de datos incluyen:\n\n1. NumPy  \n2. Pandas  \n3. Matplotlib  \n4. Scikit-learn  \n5. TensorFlow  \n6. PyTorch  \n",
      "metadata": {}
    },
    {
      "id": "340ff2f5-f485-4e15-8511-fe920981b564",
      "cell_type": "markdown",
      "source": "| Herramientas de Ciencia de Datos |\n|----------------------------------|\n| Jupyter Notebook                 |\n| RStudio                          |\n| Apache Zeppelin                  |",
      "metadata": {}
    },
    {
      "id": "28036b6c-f250-4767-ab4b-73f37601ebc6",
      "cell_type": "markdown",
      "source": "Ejemplos de operaciones básicas:\n\n- **Suma:** `3 + 5 = 8`\n- **Resta:** `10 - 4 = 6`\n- **Multiplicación:** `6 * 7 = 42`\n- **División:** `20 / 4 = 5.0`\n- **Exponente:** `2 ** 3 = 8`\n- **Módulo (resto de la división):** `10 % 3 = 1`",
      "metadata": {}
    },
    {
      "id": "dc66c0af-a93a-48ab-9adb-551140e90442",
      "cell_type": "code",
      "source": "# Esta es una expresión aritmética simple para multiplicar y luego sumar enteros\nresultado = (3 * 4) + 5\nprint(resultado)",
      "metadata": {
        "trusted": true
      },
      "outputs": [
        {
          "name": "stdout",
          "output_type": "stream",
          "text": "17\n"
        }
      ],
      "execution_count": 4
    },
    {
      "id": "ac6aacad-2b85-483b-b385-5793c72cffbe",
      "cell_type": "code",
      "source": "# Esto convertirá 200 minutos a horas dividiendo por 60\nminutos = 200\nhoras = minutos / 60\nprint(horas)",
      "metadata": {
        "trusted": true
      },
      "outputs": [
        {
          "name": "stdout",
          "output_type": "stream",
          "text": "3.3333333333333335\n"
        }
      ],
      "execution_count": 5
    },
    {
      "id": "b25ab9d5-262f-4c9d-918c-b62db3d2d911",
      "cell_type": "markdown",
      "source": "**Objetivos:**\n\n- Listar lenguajes populares para Ciencia de Datos.  \n- Identificar bibliotecas comúnmente utilizadas en Ciencia de Datos.  \n- Explorar herramientas y entornos de desarrollo para Ciencia de Datos.  \n- Evaluar expresiones aritméticas en Python.  \n- Convertir unidades de tiempo utilizando Python.  ",
      "metadata": {}
    },
    {
      "id": "b0bba694-9c99-44a3-b625-08a239990cf4",
      "cell_type": "markdown",
      "source": "## Autor\n\n[Mechu Lopez Bravo]",
      "metadata": {}
    },
    {
      "id": "ecf5451f-123b-4893-95be-b7208951d031",
      "cell_type": "code",
      "source": "",
      "metadata": {
        "trusted": true
      },
      "outputs": [],
      "execution_count": null
    }
  ]
}